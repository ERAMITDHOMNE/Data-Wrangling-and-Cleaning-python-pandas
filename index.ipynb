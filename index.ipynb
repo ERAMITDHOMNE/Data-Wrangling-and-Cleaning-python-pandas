{
 "cells": [
  {
   "cell_type": "markdown",
   "metadata": {},
   "source": [
    "# Cleaning Company Data - Lab\n",
    "\n",
    "\n",
    "## Introduction\n",
    "Let's take what we learned in the last lesson and get some practice working on an expanded data set.\n",
    "\n",
    "\n",
    "## Objectives\n",
    "You will be able to:\n",
    "* Import data from a csv file into a DataFrame\n",
    "* Transform data within a DataFrame to clean it up\n",
    "* Export data from a DataFrame into a csv"
   ]
  },
  {
   "cell_type": "markdown",
   "metadata": {},
   "source": [
    "## Import Pandas\n",
    "\n",
    "Remember to start by importing Pandas as `pd` in the cell below..."
   ]
  },
  {
   "cell_type": "code",
   "execution_count": null,
   "metadata": {},
   "outputs": [],
   "source": []
  },
  {
   "cell_type": "markdown",
   "metadata": {},
   "source": [
    "## Import the Data\n",
    "\n",
    "Then use the `read_csv()` method in the cell below to import the data into a data frame - let's call it `df`. The data is in a file called `new_data.csv`"
   ]
  },
  {
   "cell_type": "code",
   "execution_count": null,
   "metadata": {},
   "outputs": [],
   "source": []
  },
  {
   "cell_type": "markdown",
   "metadata": {},
   "source": [
    "## Look at the Data\n",
    "\n",
    "Take a little time in the next cell to explore the data. If you want to add new cells feel free to \"Insert - Insert Cell Below\" in the Jupyter Notebook.\n"
   ]
  },
  {
   "cell_type": "code",
   "execution_count": null,
   "metadata": {},
   "outputs": [],
   "source": []
  },
  {
   "cell_type": "markdown",
   "metadata": {},
   "source": [
    "## Clean up the Data\n",
    "Start by looking at the `value_counts()` for EntityType and then write some code to get consistent capitalization to make the value counts method for EntityType return just three records."
   ]
  },
  {
   "cell_type": "code",
   "execution_count": null,
   "metadata": {},
   "outputs": [],
   "source": []
  },
  {
   "cell_type": "markdown",
   "metadata": {},
   "source": [
    "## Export the Data\n",
    "\n",
    "Finally, write some code to export the data to a file called \"cleaned_data.csv\" and then write a couple of lines of code to re-import that file and make sure that the values_counts() are what you'd want them to be for the EntityType field."
   ]
  },
  {
   "cell_type": "code",
   "execution_count": null,
   "metadata": {},
   "outputs": [],
   "source": []
  },
  {
   "cell_type": "markdown",
   "metadata": {},
   "source": [
    "## Extra Credit\n",
    "\n",
    "For extra credit, try to clean up the state of incorporations so that the `value_counts()` for that are what you would want them to be (hint - in addition to capitalization, you'll also need to transform full state names to abbreviations or the other way around. "
   ]
  },
  {
   "cell_type": "code",
   "execution_count": null,
   "metadata": {},
   "outputs": [],
   "source": []
  },
  {
   "cell_type": "markdown",
   "metadata": {},
   "source": [
    "## Summary\n",
    "\n",
    "Congratulations! Now you're using the same tools you will after this course to import, clean up and then export data sets! Next class we'll introduce a powerful new tool for doing more complex data cleanups - Regular Expressions!\n"
   ]
  }
 ],
 "metadata": {
  "kernelspec": {
   "display_name": "Python 3",
   "language": "python",
   "name": "python3"
  },
  "language_info": {
   "codemirror_mode": {
    "name": "ipython",
    "version": 3
   },
   "file_extension": ".py",
   "mimetype": "text/x-python",
   "name": "python",
   "nbconvert_exporter": "python",
   "pygments_lexer": "ipython3",
   "version": "3.6.5"
  }
 },
 "nbformat": 4,
 "nbformat_minor": 2
}
